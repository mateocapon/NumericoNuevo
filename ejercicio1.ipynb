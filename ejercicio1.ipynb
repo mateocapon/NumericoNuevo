{
 "cells": [
  {
   "cell_type": "markdown",
   "metadata": {},
   "source": [
    "## Ejercicio 1"
   ]
  },
  {
   "cell_type": "code",
   "execution_count": 1,
   "metadata": {},
   "outputs": [],
   "source": [
    "import numpy as np\n",
    "import matplotlib.pyplot as plt\n",
    "import random"
   ]
  },
  {
   "cell_type": "markdown",
   "metadata": {},
   "source": [
    "(a) Definir un número entero de 4 dı́gitos al azar a tráves de la función random, simulando la\n",
    "clave de un candado."
   ]
  },
  {
   "cell_type": "code",
   "execution_count": 2,
   "metadata": {},
   "outputs": [],
   "source": [
    "random.seed()\n",
    "def generar_clave():\n",
    "    return random.randint(0,9999)"
   ]
  },
  {
   "cell_type": "markdown",
   "metadata": {},
   "source": [
    "(b) Programar un algoritmo de fuerza bruta para hallar la clave.\n",
    "Recorremos desde la opcion 0000 hasta encontrarla.  "
   ]
  },
  {
   "cell_type": "code",
   "execution_count": 3,
   "metadata": {},
   "outputs": [],
   "source": [
    "def encontrar_clave(clave):\n",
    "    for i in range(0,10000):\n",
    "        if(clave == i):\n",
    "            return i"
   ]
  },
  {
   "cell_type": "markdown",
   "metadata": {},
   "source": [
    "(c) Realizar el experimento al menos 100000 veces, anotando la cantidad de intentos realizados\n",
    "hasta hallar la respuesta."
   ]
  },
  {
   "cell_type": "code",
   "execution_count": 4,
   "metadata": {},
   "outputs": [],
   "source": [
    "iteraciones_necesarias = []\n",
    "for i in range(100000):\n",
    "    clave = generar_clave()\n",
    "    encontrada = encontrar_clave(clave)    \n",
    "    iteraciones_necesarias.append(encontrada)\n"
   ]
  },
  {
   "cell_type": "markdown",
   "metadata": {},
   "source": [
    "(d) Realizar un histograma para gráficar los intentos. Las columnas del histograma serán sepa-\n",
    "radas en 0-10, 10-20, 20-30, etc..."
   ]
  },
  {
   "cell_type": "code",
   "execution_count": 5,
   "metadata": {
    "scrolled": true
   },
   "outputs": [
    {
     "data": {
      "image/png": "[encoded data removed]",
      "text/plain": [
       "<Figure size 432x288 with 1 Axes>"
      ]
     },
     "metadata": {
      "needs_background": "light"
     },
     "output_type": "display_data"
    }
   ],
   "source": [
    "plt.hist(iteraciones_necesarias, bins=np.arange(0,10000, 10))\n",
    "plt.title('Histograma de la cantidad de intentos para encontrar la clave en 100000 casos')\n",
    "plt.xlabel('Cantidad de iteraciones')\n",
    "plt.ylabel('Ocurrencias')\n",
    "plt.show()"
   ]
  },
  {
   "cell_type": "markdown",
   "metadata": {},
   "source": [
    "(e) ¿Sirve como método de búsqueda de raices? "
   ]
  },
  {
   "cell_type": "markdown",
   "metadata": {},
   "source": [
    "El método en cuestión es efectivo, ya que permite encontrar la respuesta correcta en un número finito de iteraciones. \n"
   ]
  },
  {
   "cell_type": "markdown",
   "metadata": {},
   "source": [
    "(f) ¿Bajo qué condiciones lo utilizaría?"
   ]
  },
  {
   "cell_type": "markdown",
   "metadata": {},
   "source": [
    "Solo cuando se desconoce totalmente las condiciones del problema. Por ejemplo, cuando la función es discontinua o discreta, como en este caso."
   ]
  },
  {
   "cell_type": "markdown",
   "metadata": {},
   "source": [
    "(g) ¿Sería correcto hablar de convergencia?"
   ]
  },
  {
   "cell_type": "markdown",
   "metadata": {},
   "source": [
    "No, pues la búsqueda de la solución es totalmente aleatoria. "
   ]
  },
  {
   "cell_type": "code",
   "execution_count": null,
   "metadata": {},
   "outputs": [],
   "source": []
  }
 ],
 "metadata": {
  "kernelspec": {
   "display_name": "Python 3",
   "language": "python",
   "name": "python3"
  },
  "language_info": {
   "codemirror_mode": {
    "name": "ipython",
    "version": 3
   },
   "file_extension": ".py",
   "mimetype": "text/x-python",
   "name": "python",
   "nbconvert_exporter": "python",
   "pygments_lexer": "ipython3",
   "version": "3.6.9"
  }
 },
 "nbformat": 4,
 "nbformat_minor": 4
}
